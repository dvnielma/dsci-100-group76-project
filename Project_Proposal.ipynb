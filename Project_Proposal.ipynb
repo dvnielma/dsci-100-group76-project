{
 "cells": [
  {
   "cell_type": "code",
   "execution_count": 1,
   "id": "b10c70c1-8a14-494f-aa70-29aa40c2e9b6",
   "metadata": {},
   "outputs": [
    {
     "ename": "ERROR",
     "evalue": "Error in read_url(\"https://raw.githubusercontent.com/dvnielma/dsci-100-group76-project/main/trial.csv\"): could not find function \"read_url\"\n",
     "output_type": "error",
     "traceback": [
      "Error in read_url(\"https://raw.githubusercontent.com/dvnielma/dsci-100-group76-project/main/trial.csv\"): could not find function \"read_url\"\nTraceback:\n"
     ]
    }
   ],
   "source": [
    "read_url('https://raw.githubusercontent.com/dvnielma/dsci-100-group76-project/main/trial.csv')"
   ]
  },
  {
   "cell_type": "code",
   "execution_count": null,
   "id": "faa6350c-c183-422c-89f1-572136d80f5b",
   "metadata": {},
   "outputs": [],
   "source": []
  }
 ],
 "metadata": {
  "kernelspec": {
   "display_name": "R",
   "language": "R",
   "name": "ir"
  },
  "language_info": {
   "codemirror_mode": "r",
   "file_extension": ".r",
   "mimetype": "text/x-r-source",
   "name": "R",
   "pygments_lexer": "r",
   "version": "4.1.3"
  }
 },
 "nbformat": 4,
 "nbformat_minor": 5
}
